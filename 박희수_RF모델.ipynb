{
 "cells": [
  {
   "cell_type": "code",
   "execution_count": 7,
   "id": "89340398-42a0-416a-b030-52eceb0fce57",
   "metadata": {},
   "outputs": [],
   "source": [
    "import pandas as pd\n",
    "\n",
    "# 통합 CSV 불러오기\n",
    "df = pd.read_csv(\"통합_전력사용량_데이터.csv\")\n",
    "\n",
    "# 지역명, 연, 월 제거\n",
    "df_cleaned = df.drop(columns=[\"지역명\", \"연\", \"월\"])\n",
    "\n",
    "# 저장 (선택적)\n",
    "df_cleaned.to_csv(\"전처리_데이터.csv\", index=False)\n"
   ]
  },
  {
   "cell_type": "code",
   "execution_count": 9,
   "id": "ceb29452-58f6-48e7-b495-c23da0c6651f",
   "metadata": {},
   "outputs": [],
   "source": [
    "from sklearn.preprocessing import MinMaxScaler\n",
    "\n",
    "# 정규화할 데이터 로드\n",
    "df_cleaned = pd.read_csv(\"전처리_데이터.csv\")\n",
    "\n",
    "# 타깃 분리\n",
    "y = df_cleaned[\"평균사용량\"]\n",
    "X = df_cleaned.drop(columns=[\"평균사용량\"])\n",
    "\n",
    "# Min-Max 정규화\n",
    "scaler = MinMaxScaler()\n",
    "X_scaled = pd.DataFrame(scaler.fit_transform(X), columns=X.columns)\n",
    "\n",
    "# 타깃 다시 붙이기\n",
    "df_normalized = pd.concat([X_scaled, y], axis=1)\n",
    "\n",
    "# 저장 (선택적)\n",
    "df_normalized.to_csv(\"정규화_데이터.csv\", index=False)\n"
   ]
  },
  {
   "cell_type": "code",
   "execution_count": 15,
   "id": "cb25c2ed-d3d2-4eab-85d2-2148a3634db2",
   "metadata": {},
   "outputs": [
    {
     "name": "stdout",
     "output_type": "stream",
     "text": [
      "✅ 컬럼별 T-test 결과:\n",
      "대상가구수: t=1.6307, p=0.1036 → ✖ 유의하지 않음\n",
      "평균금액: t=17.6901, p=0.0000 → ✔️ 유의함\n",
      "평균기온: t=-6.3223, p=0.0000 → ✔️ 유의함\n",
      "평균최저기온: t=-6.0702, p=0.0000 → ✔️ 유의함\n",
      "평균최고기온: t=-6.4006, p=0.0000 → ✔️ 유의함\n",
      "등록공장수: t=-1.4603, p=0.1449 → ✖ 유의하지 않음\n",
      "총인구수: t=1.6307, p=0.1036 → ✖ 유의하지 않음\n",
      "세대수: t=1.6307, p=0.1036 → ✖ 유의하지 않음\n",
      "세대당 인구: t=11.4238, p=0.0000 → ✔️ 유의함\n",
      "남자 인구수: t=1.6307, p=0.1036 → ✖ 유의하지 않음\n",
      "여자 인구수: t=1.6307, p=0.1036 → ✖ 유의하지 않음\n"
     ]
    }
   ],
   "source": [
    "from scipy.stats import ttest_ind\n",
    "import pandas as pd\n",
    "\n",
    "# 정규화된 데이터 로드\n",
    "df = pd.read_csv(\"정규화_데이터.csv\")\n",
    "\n",
    "# 타깃 컬럼\n",
    "target_col = \"평균사용량\"\n",
    "\n",
    "# 결과 저장용 리스트\n",
    "ttest_results = []\n",
    "\n",
    "# 모든 피처에 대해 T-검정 수행\n",
    "for col in df.columns:\n",
    "    if col == target_col:\n",
    "        continue  # 타깃 제외\n",
    "    \n",
    "    # 피처의 중간값 기준 상/하 그룹으로 나누고, 각 그룹의 전력사용량 비교\n",
    "    median_val = df[col].median()\n",
    "    group_high = df[df[col] >= median_val][target_col]\n",
    "    group_low = df[df[col] < median_val][target_col]\n",
    "    \n",
    "    t_stat, p_value = ttest_ind(group_high, group_low)\n",
    "    ttest_results.append((col, t_stat, p_value))\n",
    "\n",
    "# 결과 출력\n",
    "print(\"✅ 컬럼별 T-test 결과:\")\n",
    "for col, t_stat, p_val in ttest_results:\n",
    "    significance = \"✔️ 유의함\" if p_val < 0.05 else \"✖ 유의하지 않음\"\n",
    "    print(f\"{col}: t={t_stat:.4f}, p={p_val:.4f} → {significance}\")\n"
   ]
  },
  {
   "cell_type": "code",
   "execution_count": 21,
   "id": "a2d075c3-42b5-4793-a085-53ba1804bfb4",
   "metadata": {},
   "outputs": [
    {
     "name": "stdout",
     "output_type": "stream",
     "text": [
      "✅ RandomForest 성능:\n",
      "  - R²: 0.8761\n"
     ]
    }
   ],
   "source": [
    "#전체 컬럼에 대한 모델 학습\n",
    "from sklearn.model_selection import train_test_split\n",
    "from sklearn.ensemble import RandomForestRegressor\n",
    "from sklearn.metrics import mean_squared_error, r2_score\n",
    "import pandas as pd\n",
    "\n",
    "# 정규화된 데이터 로드\n",
    "df = pd.read_csv(\"정규화_데이터.csv\")\n",
    "\n",
    "# 피처/타깃 분리\n",
    "X = df.drop(columns=[\"평균사용량\"])\n",
    "y = df[\"평균사용량\"]\n",
    "\n",
    "# 훈련/테스트 분할\n",
    "X_train, X_test, y_train, y_test = train_test_split(\n",
    "    X, y, test_size=0.2, random_state=42\n",
    ")\n",
    "\n",
    "# 모델 훈련\n",
    "model = RandomForestRegressor(n_estimators=100, random_state=42)\n",
    "model.fit(X_train, y_train)\n",
    "\n",
    "# 예측 및 성능 평가\n",
    "y_pred = model.predict(X_test)\n",
    "mse = mean_squared_error(y_test, y_pred)\n",
    "r2 = r2_score(y_test, y_pred)\n",
    "\n",
    "print(\"✅ RandomForest 성능:\")\n",
    "print(f\"  - R²: {r2:.4f}\")\n"
   ]
  },
  {
   "cell_type": "code",
   "execution_count": 19,
   "id": "fb466e3b-7a03-4a2e-bb9e-fcb18a01685c",
   "metadata": {},
   "outputs": [
    {
     "name": "stdout",
     "output_type": "stream",
     "text": [
      "✅ 유의한 변수 기반 RandomForest 성능:\n",
      "  - R²: 0.8530\n"
     ]
    }
   ],
   "source": [
    "#유의하지 않은 속성을 제외하고 모델 학습\n",
    "import pandas as pd\n",
    "from sklearn.model_selection import train_test_split\n",
    "from sklearn.ensemble import RandomForestRegressor\n",
    "from sklearn.metrics import mean_squared_error, r2_score\n",
    "\n",
    "# 정규화된 데이터 불러오기\n",
    "df = pd.read_csv(\"정규화_데이터.csv\")\n",
    "\n",
    "# 유의한 변수만 선택\n",
    "selected_features = [\"평균금액\", \"평균기온\", \"평균최저기온\", \"평균최고기온\", \"세대당 인구\"]\n",
    "X = df[selected_features]\n",
    "y = df[\"평균사용량\"]\n",
    "\n",
    "# 학습/테스트 분할\n",
    "X_train, X_test, y_train, y_test = train_test_split(\n",
    "    X, y, test_size=0.2, random_state=42\n",
    ")\n",
    "\n",
    "# Random Forest 회귀 모델 학습\n",
    "model = RandomForestRegressor(n_estimators=100, random_state=42)\n",
    "model.fit(X_train, y_train)\n",
    "\n",
    "# 예측 및 평가\n",
    "y_pred = model.predict(X_test)\n",
    "mse = mean_squared_error(y_test, y_pred)\n",
    "r2 = r2_score(y_test, y_pred)\n",
    "\n",
    "print(\"✅ 유의한 변수 기반 RandomForest 성능:\")\n",
    "print(f\"  - R²: {r2:.4f}\")\n"
   ]
  },
  {
   "cell_type": "code",
   "execution_count": null,
   "id": "8c19ed58-05f6-4665-814c-0ae0d1f30b0d",
   "metadata": {},
   "outputs": [],
   "source": []
  }
 ],
 "metadata": {
  "kernelspec": {
   "display_name": "Python 3 (ipykernel)",
   "language": "python",
   "name": "python3"
  },
  "language_info": {
   "codemirror_mode": {
    "name": "ipython",
    "version": 3
   },
   "file_extension": ".py",
   "mimetype": "text/x-python",
   "name": "python",
   "nbconvert_exporter": "python",
   "pygments_lexer": "ipython3",
   "version": "3.12.4"
  }
 },
 "nbformat": 4,
 "nbformat_minor": 5
}
